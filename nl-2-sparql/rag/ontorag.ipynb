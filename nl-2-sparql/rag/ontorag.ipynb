{
 "cells": [
  {
   "cell_type": "code",
   "execution_count": 1,
   "id": "6b9f9fbd",
   "metadata": {},
   "outputs": [],
   "source": [
    "import sys\n",
    "import os\n",
    "import IPython\n",
    "from IPython.display import Markdown, display               "
   ]
  },
  {
   "cell_type": "code",
   "execution_count": 3,
   "id": "52072622",
   "metadata": {},
   "outputs": [
    {
     "data": {
      "text/plain": [
       "AIMessage(content=\"Hello! It's nice to meet you. Is there something I can help you with, or would you like to chat?\", additional_kwargs={}, response_metadata={'model': 'llama3.2', 'created_at': '2025-07-04T14:27:23.5205003Z', 'done': True, 'done_reason': 'stop', 'total_duration': 9896982900, 'load_duration': 4477301000, 'prompt_eval_count': 28, 'prompt_eval_duration': 1674091200, 'eval_count': 26, 'eval_duration': 3744539100, 'message': Message(role='assistant', content='', images=None, tool_calls=None)}, id='run-a0b44cbd-fef3-4e52-a3d2-7f964a634a9d-0', usage_metadata={'input_tokens': 28, 'output_tokens': 26, 'total_tokens': 54})"
      ]
     },
     "execution_count": 3,
     "metadata": {},
     "output_type": "execute_result"
    }
   ],
   "source": [
    "from langchain_chroma import Chroma\n",
    "from langchain_ollama import OllamaEmbeddings\n",
    "from langchain_ollama import ChatOllama\n",
    "from langchain_openai import ChatOpenAI\n",
    "from langchain.embeddings import OpenAIEmbeddings\n",
    "\n",
    "from langchain.document_loaders import TextLoader\n",
    "from langchain.document_loaders import PyPDFLoader\n",
    "\n",
    "from langchain.text_splitter import CharacterTextSplitter, RecursiveCharacterTextSplitter\n",
    "from langchain.vectorstores import DocArrayInMemorySearch\n",
    "from langchain.chains import RetrievalQA,  ConversationalRetrievalChain\n",
    "from langchain.memory import ConversationBufferMemory\n",
    "\n",
    "persist_directory = 'chroma/chromaOnto2/'\n",
    "embeddings = OllamaEmbeddings(model=\"mxbai-embed-large\") # mxbai-embed-large, llama3.2\n",
    "\n",
    "\n",
    "LLM = ChatOllama(model=\"llama3.2\", temperature=0.8)\n",
    "LLM.invoke(\"Hello world!\")\n"
   ]
  },
  {
   "cell_type": "code",
   "execution_count": 4,
   "id": "dd34fbc9",
   "metadata": {},
   "outputs": [],
   "source": [
    "from langchain_community.document_loaders import TomlLoader\n",
    "\n",
    "loader = TomlLoader(\"OntoRaster.toml\")\n",
    "docs = loader.load()"
   ]
  },
  {
   "cell_type": "code",
   "execution_count": 5,
   "id": "52f64961",
   "metadata": {},
   "outputs": [
    {
     "data": {
      "text/plain": [
       "1"
      ]
     },
     "execution_count": 5,
     "metadata": {},
     "output_type": "execute_result"
    }
   ],
   "source": [
    "len(docs)"
   ]
  },
  {
   "cell_type": "code",
   "execution_count": 6,
   "id": "ca3211cc",
   "metadata": {},
   "outputs": [
    {
     "data": {
      "text/plain": [
       "'{\"title\": \"OntoRaster v2024 Demonstration\", \"tabGroups\": [{\"name\": \"RasSPARQL Functions\", \"tabs\": [{\"name\": \"Q1. Get Dimension\", \"query\": \"#####################################################################\\\\n#### Query 1. Find the dimension of user-specific Raster dataset ####\\\\n#####################################################################\\\\n\\\\nPREFIX :\\\\t<https://github.com/aghoshpro/OntoRaster/>\\\\nPREFIX rasdb:\\\\t<https://github.com/aghoshpro/RasterDataCube/>\\\\n\\\\nSELECT ?rasterName ?dimension {\\\\n?gridCoverage a :Raster .\\\\n?gridCoverage rasdb:rasterName ?rasterName .\\\\nFILTER (CONTAINS(?rasterName, \\'\\')) # Also try \\'Munich\\', \\'Sweden\\', \\'Bavaria\\', \\'Tyrol\\'\\\\nBIND (rasdb:rasDimension(?rasterName) AS ?dimension)\\\\n}\\\\n\"}, {\"name\": \"Q2. Cell Operation\", \"query\": \"#################################################################################################################\\\\n#### Query 2. Perform element-wise operation over raster array cells with user-specific operator and operand ####\\\\n#################################################################################################################\\\\n\\\\nPREFIX :\\\\t<https://github.com/aghoshpro/OntoRaster/>\\\\nPREFIX rasdb:\\\\t<https://github.com/aghoshpro/RasterDataCube/>\\\\n\\\\nSELECT ?answer {\\\\n?raster rasdb:rasterName ?rasterName .\\\\nFILTER (CONTAINS(?rasterName, \\'Sweden\\'))\\\\nBIND (\\'*\\' AS ?operator) \\\\nBIND (0.02 AS ?operand)\\\\nBIND (\\'2022-04-18T00:00:00+00:00\\'^^xsd:dateTime AS ?timeStamp)\\\\nBIND (rasdb:rasCellOp(?timeStamp, ?operator, ?operand, ?rasterName) AS ?answer)\\\\n}\\\\n\"}, {\"name\": \"Q3. Spatial Average\", \"query\": \"###################################################################################################\\\\n#### Query 3. Find spatial average value over a user-specific vector Region and Raster dataset ####\\\\n###################################################################################################\\\\n\\\\nPREFIX :\\\\t<https://github.com/aghoshpro/OntoRaster/>\\\\nPREFIX rdfs:\\\\t<http://www.w3.org/2000/01/rdf-schema#>\\\\nPREFIX geo:\\\\t<http://www.opengis.net/ont/geosparql#>\\\\nPREFIX rasdb:\\\\t<https://github.com/aghoshpro/RasterDataCube/>\\\\n\\\\nSELECT ?regionName ?answer {\\\\n?region a :Region .\\\\n?region rdfs:label ?regionName .\\\\n?region geo:asWKT ?regionWkt .\\\\n?gridCoverage a :Raster .\\\\n?gridCoverage rasdb:rasterName ?rasterName .\\\\nFILTER (?regionName = \\'M\\\\u00fcnchen\\') # also try with Deggendorf, Bayreuth, W\\\\u00fcrzburg etc.         \\\\nFILTER (CONTAINS(?rasterName, \\'Bavaria\\'))\\\\nBIND (\\'2023-09-04T00:00:00+00:00\\'^^xsd:dateTime AS ?timeStamp)\\\\nBIND (rasdb:rasSpatialAverage(?timeStamp, ?regionWkt, ?rasterName) AS ?answer)\\\\n} \\\\n\"}, {\"name\": \"Q4. Spatial Maximum\", \"query\": \"###################################################################################################\\\\n#### Query 4. Find spatial maximum value over a user-specific vector Region and Raster dataset ####\\\\n###################################################################################################\\\\n\\\\nPREFIX :\\\\t<https://github.com/aghoshpro/OntoRaster/>\\\\nPREFIX rdfs:\\\\t<http://www.w3.org/2000/01/rdf-schema#>\\\\nPREFIX geo:\\\\t<http://www.opengis.net/ont/geosparql#>\\\\nPREFIX rasdb:\\\\t<https://github.com/aghoshpro/RasterDataCube/>\\\\n\\\\nSELECT ?regionName ?answer {\\\\n?region a :Region .\\\\n?region rdfs:label ?regionName .\\\\n?region geo:asWKT ?regionWkt .\\\\n?gridCoverage a :Raster .\\\\n?gridCoverage rasdb:rasterName ?rasterName .\\\\nFILTER (?regionName = \\'Stockholm\\') # also try with Link\\\\u00f6ping, Uppsala, G\\\\u00f6teborg etc.\\\\nFILTER (CONTAINS(?rasterName, \\'Sweden\\'))\\\\nBIND (\\'2022-08-24T00:00:00+00:00\\'^^xsd:dateTime AS ?timeStamp)\\\\nBIND (rasdb:rasSpatialMaximum(?timeStamp, ?regionWkt, ?rasterName) AS ?answer)\\\\n}\\\\n\"}, {\"name\": \"Q5. Spatial Minimum\", \"query\": \"###################################################################################################\\\\n#### Query 5. Find spatial minimum value over a user-specific vector Region and Raster dataset ####\\\\n###################################################################################################\\\\n\\\\nPREFIX :\\\\t<https://github.com/aghoshpro/OntoRaster/>\\\\nPREFIX rdfs:\\\\t<http://www.w3.org/2000/01/rdf-schema#>\\\\nPREFIX geo:\\\\t<http://www.opengis.net/ont/geosparql#>\\\\nPREFIX rasdb:\\\\t<https://github.com/aghoshpro/RasterDataCube/>\\\\n\\\\nSELECT ?regionName ?answer {\\\\n?region a :Region .\\\\n?region rdfs:label ?regionName .\\\\n?region geo:asWKT ?regionWkt .\\\\n?gridCoverage a :Raster .\\\\n?gridCoverage rasdb:rasterName ?rasterName .\\\\nFILTER (?regionName = \\'Bolzano\\') # also try with Castelrotto, Sarentino, Fortezza  etc.\\\\nFILTER (CONTAINS(?rasterName, \\'Tyrol\\'))\\\\nBIND (\\'2023-03-03T00:00:00+00:00\\'^^xsd:dateTime AS ?timeStamp)\\\\nBIND (rasdb:rasSpatialMinimum(?timeStamp, ?regionWkt, ?rasterName) AS ?answer)\\\\n} \\\\n\"}, {\"name\": \"Q6. Temporal Average\", \"query\": \"###########################################################################################################################\\\\n#### Query 6. Find temporal average value over a user-specific vector Region and Raster dataset between two timestamps ####\\\\n###########################################################################################################################\\\\n\\\\nPREFIX :\\\\t<https://github.com/aghoshpro/OntoRaster/>\\\\nPREFIX rdfs:\\\\t<http://www.w3.org/2000/01/rdf-schema#>\\\\nPREFIX geo:\\\\t<http://www.opengis.net/ont/geosparql#>\\\\nPREFIX rasdb:\\\\t<https://github.com/aghoshpro/RasterDataCube/>\\\\n\\\\nSELECT ?regionName ?answer {\\\\n?region a :Region .\\\\n?region rdfs:label ?regionName .\\\\n?region geo:asWKT ?regionWkt .\\\\n?gridCoverage a :Raster .\\\\n?gridCoverage rasdb:rasterName ?rasterName .\\\\nFILTER (?regionName = \\'W\\\\u00fcrzburg\\') \\\\nFILTER (CONTAINS(?rasterName, \\'Bavaria\\'))\\\\nBIND (\\'2023-06-15T00:00:00+00:00\\'^^xsd:dateTime AS ?startTimeStamp)\\\\nBIND (\\'2023-07-21T00:00:00+00:00\\'^^xsd:dateTime AS ?endTimeStamp)\\\\nBIND (rasdb:rasTemporalAverage(?startTimeStamp, ?endTimeStamp , ?regionWkt, ?rasterName) AS ?answer)\\\\n}\\\\n\"}, {\"name\": \"Q7. Temporal Maximum\", \"query\": \"###########################################################################################################################\\\\n#### Query 7. Find temporal maximum value over a user-specific vector Region and Raster dataset between two timestamps ####\\\\n###########################################################################################################################\\\\n\\\\nPREFIX :\\\\t<https://github.com/aghoshpro/OntoRaster/>\\\\nPREFIX rdfs:\\\\t<http://www.w3.org/2000/01/rdf-schema#>\\\\nPREFIX geo:\\\\t<http://www.opengis.net/ont/geosparql#>\\\\nPREFIX rasdb:\\\\t<https://github.com/aghoshpro/RasterDataCube/>\\\\n\\\\nSELECT ?regionName ?answer {\\\\n?region a :Region .\\\\n?region rdfs:label ?regionName .\\\\n?region geo:asWKT ?regionWkt .\\\\n?gridCoverage a :Raster .\\\\n?gridCoverage rasdb:rasterName ?rasterName .\\\\nFILTER (?regionName = \\'Link\\\\u00f6ping\\') \\\\nFILTER (CONTAINS(?rasterName, \\'Sweden\\'))\\\\nBIND (\\'2022-04-05T00:00:00+00:00\\'^^xsd:dateTime AS ?startTimeStamp)\\\\nBIND (\\'2022-06-19T00:00:00+00:00\\'^^xsd:dateTime AS ?endTimeStamp)\\\\nBIND (rasdb:rasTemporalMaximum(?startTimeStamp, ?endTimeStamp , ?regionWkt, ?rasterName) AS ?answer)\\\\n}\\\\n\"}, {\"name\": \"Q8. Temporal Minimum\", \"query\": \"###########################################################################################################################\\\\n#### Query 8. Find temporal minimum value over a user-specific vector Region and Raster dataset between two timestamps ####\\\\n###########################################################################################################################\\\\n\\\\nPREFIX :\\\\t<https://github.com/aghoshpro/OntoRaster/>\\\\nPREFIX rdfs:\\\\t<http://www.w3.org/2000/01/rdf-schema#>\\\\nPREFIX geo:\\\\t<http://www.opengis.net/ont/geosparql#>\\\\nPREFIX rasdb:\\\\t<https://github.com/aghoshpro/RasterDataCube/>\\\\n\\\\nSELECT ?regionName ?answer {\\\\n?region a :Region .\\\\n?region rdfs:label ?regionName .\\\\n?region geo:asWKT ?regionWkt .\\\\n?gridCoverage a :Raster .\\\\n?gridCoverage rasdb:rasterName ?rasterName .\\\\nFILTER (?regionName = \\'Sarentino\\') \\\\nFILTER (CONTAINS(?rasterName, \\'Tyrol\\'))\\\\nBIND (\\'2023-07-15T00:00:00+00:00\\'^^xsd:dateTime AS ?startTimeStamp)\\\\nBIND (\\'2023-07-21T00:00:00+00:00\\'^^xsd:dateTime AS ?endTimeStamp)\\\\nBIND (rasdb:rasTemporalMinimum(?startTimeStamp, ?endTimeStamp , ?regionWkt, ?rasterName) AS ?answer)\\\\n} \\\\n\"}, {\"name\": \"Q9. Clip Raster\", \"query\": \"#####################################################################################################################\\\\n#### Query 9. Clip a portion of the raster based on the shape of vector Region over user-specific raster dataset ####\\\\n#####################################################################################################################\\\\n\\\\nPREFIX :\\\\t<https://github.com/aghoshpro/OntoRaster/>\\\\nPREFIX rdfs:\\\\t<http://www.w3.org/2000/01/rdf-schema#>\\\\nPREFIX geo:\\\\t<http://www.opengis.net/ont/geosparql#>\\\\nPREFIX rasdb:\\\\t<https://github.com/aghoshpro/RasterDataCube/>\\\\n\\\\nSELECT ?regionName ?answer {\\\\n?region a :Region .\\\\n?region rdfs:label ?regionName .\\\\n?region geo:asWKT ?regionWkt .\\\\n?gridCoverage a :Raster .\\\\n?gridCoverage rasdb:rasterName ?rasterName .\\\\nFILTER (?regionName = \\'Castelrotto\\') \\\\nFILTER (CONTAINS(?rasterName, \\'Tyrol\\')) \\\\nBIND (\\'2023-09-24T00:00:00+00:00\\'^^xsd:dateTime AS ?timeStamp)\\\\nBIND (rasdb:rasClipRaster(?timeStamp, ?regionWkt, ?rasterName) AS ?answer) \\\\n}\\\\n\"}, {\"name\": \"Q10. Clip Raster Custom Region\", \"query\": \"#################################################################################################################################\\\\n#### Query 10. Clip a portion of the raster based on the shape of the custom vector Region over user-specific raster dataset ####\\\\n#################################################################################################################################\\\\n\\\\nPREFIX :\\\\t<https://github.com/aghoshpro/OntoRaster/>\\\\nPREFIX rdfs:\\\\t<http://www.w3.org/2000/01/rdf-schema#>\\\\nPREFIX geo:\\\\t<http://www.opengis.net/ont/geosparql#>\\\\nPREFIX rasdb:\\\\t<https://github.com/aghoshpro/RasterDataCube/>\\\\n\\\\nSELECT ?regionName ?answer {\\\\n?gridCoverage a :Raster .\\\\n?gridCoverage rasdb:rasterName ?rasterName .\\\\nFILTER (CONTAINS(?rasterName, \\'Bavaria\\')) \\\\nBIND (\\'POLYGON((11.324157714843748 48.29050321714061,11.911926269531248 48.279537342260085,11.88995361328125 48.01932418480118,11.340637207031248 48.01564978668938,11.324157714843748 48.29050321714061))\\' AS ?customRegionWkt)\\\\nBIND (\\'2023-07-24T00:00:00+00:00\\'^^xsd:dateTime AS ?timeStamp)\\\\nBIND (rasdb:rasClipRasterAnyGeom(?timeStamp, ?customRegionWkt, ?rasterName) AS ?answer) \\\\n}\\\\n\"}, {\"name\": \"Q10x. Get LatLongCentroid**\", \"query\": \"################################################################################\\\\n#### Query 10x. Find the minimum, maximum and centroid of a vector polygon  ####\\\\n################################################################################\\\\n\\\\n### Only works if \\\\\"image: albulenpano/geosparql_1.1:v5\\\\\" included in docker-compose.yml [Ontop Version]\\\\n\\\\nPREFIX geo: <http://www.opengis.net/ont/geosparql#>\\\\nPREFIX geof: <http://www.opengis.net/def/function/geosparql/>\\\\n\\\\nSELECT ?minX ?minY ?maxX ?maxY ?centroidXY {\\\\n#?region a :Region .\\\\n#?region rdfs:label ?regionName .\\\\n#?region geo:asWKT ?regionWkt .\\\\nBIND(\\'POLYGON((11.548455354852285 48.14904359943597,11.627292392870094 48.147177113486606,11.58380485801181 48.11696471831948,11.546675164347198 48.119171832113835,11.548455354852285 48.14904359943597))\\'^^geo:wktLiteral AS ?customRegionWkt)\\\\nBIND(geof:minX(?customRegionWkt) AS ?minX)\\\\nBIND(geof:maxX(?customRegionWkt) AS ?maxX)\\\\nBIND(geof:minY(?customRegionWkt) AS ?minY)\\\\nBIND(geof:maxY(?customRegionWkt) AS ?maxY)\\\\nBIND(geof:centroid(?customRegionWkt) AS ?centroidXY)\\\\n}\\\\n\"}, {\"name\": \"READ ME\", \"query\": \"##########################################\\\\n#### Welcome to OntoRaster v2024 Demo ####\\\\n##########################################\\\\n\\\\n### This contain all the supported spatial-temporal SPARQL queries loaded with developed raster functions (hence RasSPARQL), that integrates different raster and vector data semantically.\\\\n\\\\n#### rasGetDimension | rasCellOperation | rasSpatialAverage | rasSpatialMinimum | rasSpatialMaximum | rasTemporalAverage | rasTemporalMinimum | rasTemporalMaximum | rasClipRaster | rasClipRasterAnyGeom | MORE COMING SOON\\\\n\\\\n### Some Area Of Interests (AOIs) with the relevant heterogeneous data are listed here to showcase. You can always add your own AOI provided that it has at least one relational data and a raster data but not limited to. \\\\n\\\\n### To visualize the query results check \\\\\"Geo\\\\\" tab\\\\n\"}]}, {\"name\": \"AOI - Munich, Germany (D2G2)\", \"tabs\": [{\"name\": \"QX. Check Rasters\", \"query\": \"########################################################\\\\n#### Query 10. Find All Raster datasets over Munich ####\\\\n########################################################\\\\n\\\\nPREFIX :\\\\t<https://github.com/aghoshpro/OntoRaster/>\\\\nPREFIX rasdb:\\\\t<https://github.com/aghoshpro/RasterDataCube/>\\\\n\\\\nSELECT ?rasterName ?dimension {\\\\n?gridCoverage a :Raster .\\\\n?gridCoverage rasdb:rasterName ?rasterName .\\\\nFILTER (CONTAINS(?rasterName, \\'Munich\\')) \\\\nBIND (rasdb:rasDimension(?rasterName) AS ?dimension)\\\\n}\\\\n\"}, {\"name\": \"Q11. Get Districts (in 2.5 sec)\", \"query\": \"###########################################################################################\\\\n#### Query 11. Find all districts of Munich where elevation is more than 515 meters    ####\\\\n###########################################################################################\\\\n\\\\nPREFIX :\\\\t<https://github.com/aghoshpro/OntoRaster/>\\\\nPREFIX rdfs: <http://www.w3.org/2000/01/rdf-schema#>\\\\nPREFIX geo:\\\\t <http://www.opengis.net/ont/geosparql#>\\\\nPREFIX geof: <http://www.opengis.net/def/function/geosparql/>\\\\nPREFIX lgdo: <http://linkedgeodata.org/ontology/>\\\\nPREFIX rasdb: <https://github.com/aghoshpro/RasterDataCube/>\\\\n\\\\n## Variation 01\\\\nSELECT ?distName ?elevation {\\\\n?region a :District ; rdfs:label ?distName ; geo:asWKT ?distWkt .\\\\n?gridCoverage a :Raster ; rasdb:rasterName ?rasterName .\\\\nFILTER (CONTAINS(?rasterName, \\'Elevation\\'))\\\\nBIND (\\'2000-02-11T00:00:00+00:00\\'^^xsd:dateTime AS ?timeStamp)\\\\nBIND (rasdb:rasSpatialAverage(?timeStamp, ?distWkt, ?rasterName) AS ?elevation)\\\\nFILTER(?elevation > 515)\\\\n} \\\\n\\\\n## Variation 02\\\\n#SELECT ?distName ?elevation ?distWkt ?distWktColor {\\\\n#?region a :District .\\\\n#?region rdfs:label ?distName .\\\\n#?region geo:asWKT ?distWkt .\\\\n#BIND(\\'#008AFFF0\\' AS ?distWktColor)\\\\n#?gridCoverage a :Raster .\\\\n#?gridCoverage rasdb:rasterName ?rasterName .\\\\n#FILTER (CONTAINS(?rasterName, \\'Elevation\\'))\\\\n#BIND (\\'2000-02-11T00:00:00+00:00\\'^^xsd:dateTime AS ?timeStamp)\\\\n#BIND (rasdb:rasSpatialAverage(?timeStamp, ?distWkt, ?rasterName) AS ?elevation)\\\\n#FILTER(?elevation > 515)\\\\n#} \\\\n\\\\n# Variation 03\\\\n#SELECT ?distName ?elevation ?distWkt ?distWktColor {\\\\n#?region a :District .\\\\n#?region rdfs:label ?distName .\\\\n#?region geo:asWKT ?distWkt .\\\\n##BIND(?distName AS ?distWktLabel)\\\\n#?gridCoverage a :Raster .\\\\n#?gridCoverage rasdb:rasterName ?rasterName .\\\\n#FILTER (CONTAINS(?rasterName, \\'Elevation\\'))\\\\n#BIND (\\'2000-02-11T00:00:00+00:00\\'^^xsd:dateTime AS ?timeStamp)\\\\n#BIND (rasdb:rasSpatialAverage(?timeStamp, ?distWkt, ?rasterName) AS ?elevation)\\\\n#FILTER(?elevation > 515) .\\\\n#  BIND( \\\\n#    IF(?elevation < 525, \\\\\"blue\\\\\" , \\\\n#    IF(?elevation < 535, \\\\\"#008AFF\\\\\",\\\\n#    IF(?elevation < 545, \\\\\"magenta\\\\\",\\\\n#    IF(?elevation < 555, \\\\\"red\\\\\",\\\\n#    IF(?elevation < 565, \\\\\"#C60000\\\\\",\\\\n#    \\\\\"black\\\\\")))))\\\\n#    AS ?distWktColor).\\\\n#} \\\\n#GROUP BY ?distName ?elevation ?distWkt ?distWktColor\\\\n\\\\n\"}, {\"name\": \"Q12. Get SubDistricts (in 16.34 sec)\", \"query\": \"##############################################################################################\\\\n#### Query 12. Find all sub-districts of Munich where elevation is between 510-520 meters ####\\\\n##############################################################################################\\\\n\\\\nPREFIX :\\\\t<https://github.com/aghoshpro/OntoRaster/>\\\\nPREFIX rdfs: <http://www.w3.org/2000/01/rdf-schema#>\\\\nPREFIX geo:\\\\t <http://www.opengis.net/ont/geosparql#>\\\\nPREFIX geof: <http://www.opengis.net/def/function/geosparql/>\\\\nPREFIX lgdo: <http://linkedgeodata.org/ontology/>\\\\nPREFIX rasdb: <https://github.com/aghoshpro/RasterDataCube/>\\\\n\\\\nSELECT ?distName ?elevation ?distWkt ?distWktColor ?distWktLabel {\\\\n?region a :SubDistrict .\\\\n?region rdfs:label ?distName .\\\\n?region geo:asWKT ?distWkt .\\\\nBIND(?distName AS ?distWktLabel)\\\\n?gridCoverage a :Raster .\\\\n?gridCoverage rasdb:rasterName ?rasterName .\\\\nFILTER (CONTAINS(?rasterName, \\'Elevation\\'))\\\\nBIND (\\'2000-02-11T00:00:00+00:00\\'^^xsd:dateTime AS ?timeStamp)\\\\nBIND (rasdb:rasSpatialAverage(?timeStamp, ?distWkt, ?rasterName) AS ?elevation)\\\\nFILTER(?elevation > 515) .\\\\n  BIND( \\\\n    IF(?elevation < 525, \\\\\"blue\\\\\" , \\\\n    IF(?elevation < 535, \\\\\"#008AFF\\\\\",\\\\n    IF(?elevation < 545, \\\\\"magenta\\\\\",\\\\n    IF(?elevation < 555, \\\\\"red\\\\\",\\\\n    IF(?elevation < 565, \\\\\"#C60000\\\\\",\\\\n    \\\\\"black\\\\\")))))\\\\n    AS ?distWktColor).\\\\n} \\\\nGROUP BY ?distName ?elevation ?distWkt ?distWktColor ?distWktLabel\\\\n\\\\n#SELECT ?distName ?elevation ?distWkt ?distWktColor {\\\\n#?region a :SubDistrict .\\\\n#?region rdfs:label ?distName .\\\\n#?region geo:asWKT ?distWkt .\\\\n#BIND(\\'#008AFFF0\\' AS ?distWktColor)\\\\n#?gridCoverage a :Raster .\\\\n#?gridCoverage rasdb:rasterName ?rasterName .\\\\n#FILTER (CONTAINS(?rasterName, \\'Elevation\\'))\\\\n#BIND (\\'2000-02-11T00:00:00+00:00\\'^^xsd:dateTime AS ?timeStamp)\\\\n#BIND (rasdb:rasSpatialAverage(?timeStamp, ?distWkt, ?rasterName) AS ?elevation)\\\\n#FILTER(?elevation > 510 && ?elevation < 520)\\\\n#} \\\\n\"}, {\"name\": \"Q13. Get Churches (in 3.1 sec)\", \"query\": \"###########################################################################################\\\\n#### Query 13. List all the churches in Munich where elevation is less than 520 meters ####\\\\n###########################################################################################\\\\n\\\\nPREFIX :\\\\t<https://github.com/aghoshpro/OntoRaster/>\\\\nPREFIX rdfs: <http://www.w3.org/2000/01/rdf-schema#>\\\\nPREFIX geo:\\\\t <http://www.opengis.net/ont/geosparql#>\\\\nPREFIX geof: <http://www.opengis.net/def/function/geosparql/>\\\\nPREFIX lgdo: <http://linkedgeodata.org/ontology/>\\\\nPREFIX rasdb: <https://github.com/aghoshpro/RasterDataCube/>\\\\n\\\\nSELECT ?bldgName ?distName ?elevation {\\\\n?region a :District .\\\\n?region rdfs:label ?distName .\\\\n?region geo:asWKT ?distWkt .\\\\n?building a lgdo:Church .\\\\n?building rdfs:label ?bldgName .\\\\n?building geo:asWKT ?bldgWkt .\\\\nFILTER (geof:sfWithin(?bldgWkt, ?distWkt))\\\\n?gridCoverage a :Raster .\\\\n?gridCoverage rasdb:rasterName ?rasterName .\\\\nFILTER (CONTAINS(?rasterName, \\'Elevation\\'))\\\\nBIND (\\'2000-02-11T00:00:00+00:00\\'^^xsd:dateTime AS ?timeStamp)\\\\nBIND (rasdb:rasSpatialAverage(?timeStamp, ?distWkt, ?rasterName) AS ?elevation)\\\\nFILTER(?elevation < 520)\\\\n} \\\\n\\\\n\"}, {\"name\": \"Q14a. View Churches (in 6.5 sec)\", \"query\": \"###########################################################################################\\\\n#### Query 14a. List all the churches in Munich where elevation is more than 500 meters\\\\n###########################################################################################\\\\n\\\\nPREFIX :\\\\t<https://github.com/aghoshpro/OntoRaster/>\\\\nPREFIX rdfs: <http://www.w3.org/2000/01/rdf-schema#>\\\\nPREFIX geo:\\\\t <http://www.opengis.net/ont/geosparql#>\\\\nPREFIX geof: <http://www.opengis.net/def/function/geosparql/>\\\\nPREFIX lgdo: <http://linkedgeodata.org/ontology/>\\\\nPREFIX rasdb: <https://github.com/aghoshpro/RasterDataCube/>\\\\n\\\\nSELECT ?bldgName ?distName ?elevation ?bldgLat ?bldgLon ?distWkt ?distWktColor ?bldgWkt ?bldgWktColor {\\\\n?region a :District ; rdfs:label ?distName ; geo:asWKT ?distWkt .\\\\n?building a lgdo:Church ; rdfs:label ?bldgName ; geo:asWKT ?bldgWkt . # School, Parking, Hospital, Hotel\\\\nBIND(\\'#008AFF5C\\' AS ?distWktColor)\\\\nBIND(\\'red\\' AS ?bldgWktColor)\\\\n#BIND(geof:latitude(\\\\\"?bldgWkt\\\\\"^^geo:wktLiteral) AS ?bldgLat)\\\\n#BIND(geof:longitude(\\\\\"?bldgWkt\\\\\"^^geo:wktLiteral) AS ?bldgLon)\\\\nFILTER (geof:sfWithin(?bldgWkt, ?distWkt))\\\\n?gridCoverage a :Raster ; rasdb:rasterName ?rasterName .\\\\nFILTER (CONTAINS(?rasterName, \\'Elevation\\')) # NDVI, Snow, SoilMoisture\\\\nBIND (\\'2000-02-11T00:00:00+00:00\\'^^xsd:dateTime AS ?timeStamp) # 2021-12-20T00:00:00+00:00\\\\nBIND (rasdb:rasSpatialMinimum(?timeStamp, ?distWkt, ?rasterName) AS ?elevation)\\\\nFILTER(?elevation < 520)\\\\n} \\\\n\"}, {\"name\": \"Q14b. View Schools (in 6.5 sec)\", \"query\": \"############################################################################################################\\\\n#### Query 14b. List all the schools and districts in Munich where grass (or vegetation) is more green  ####\\\\n############################################################################################################\\\\n\\\\nPREFIX :\\\\t<https://github.com/aghoshpro/OntoRaster/>\\\\nPREFIX rdfs: <http://www.w3.org/2000/01/rdf-schema#>\\\\nPREFIX geo:\\\\t <http://www.opengis.net/ont/geosparql#>\\\\nPREFIX geof: <http://www.opengis.net/def/function/geosparql/>\\\\nPREFIX lgdo: <http://linkedgeodata.org/ontology/>\\\\nPREFIX rasdb: <https://github.com/aghoshpro/RasterDataCube/>\\\\n\\\\nSELECT ?bldgName ?distName ?ndvi ?distWkt ?distWktColor ?bldgWkt ?bldgWktColor { # ?bldgLat ?bldgLon\\\\n?region a :District ; rdfs:label ?distName ; geo:asWKT ?distWkt . \\\\n?building a lgdo:School ; rdfs:label ?bldgName ; geo:asWKT ?bldgWkt . # Churches, Parking, Hospital, Hotel\\\\nBIND(\\'#008AFF5C\\' AS ?distWktColor)\\\\nBIND(\\'red\\' AS ?bldgWktColor)\\\\n#BIND(geof:latitude(\\\\\"?bldgWkt\\\\\"^^geo:wktLiteral) AS ?bldgLat)\\\\n#BIND(geof:longitude(\\\\\"?bldgWkt\\\\\"^^geo:wktLiteral) AS ?bldgLon)\\\\nFILTER (geof:sfWithin(?bldgWkt, ?distWkt))\\\\n?gridCoverage a :Raster ; rasdb:rasterName ?rasterName .\\\\nFILTER (CONTAINS(?rasterName, \\'NDVI\\')) \\\\nBIND (\\'2022-01-01T00:00:00+00:00\\'^^xsd:dateTime AS ?timeStamp) \\\\nBIND (rasdb:rasSpatialAverage(?timeStamp, ?distWkt, ?rasterName) AS ?ndvi)\\\\nFILTER(?ndvi > 0.35) # NDVI Scale [0.1 (Desert) to >= 1.0 (Forest)]\\\\n} \\\\n\"}, {\"name\": \"Q14c. View Hotels (in 7.665 sec)\", \"query\": \"###########################################################################################\\\\n#### Query 14c. List all the hotels in Munich where snowcover is more than 500 meters  ####\\\\n###########################################################################################\\\\n\\\\nPREFIX :\\\\t<https://github.com/aghoshpro/OntoRaster/>\\\\nPREFIX rdfs: <http://www.w3.org/2000/01/rdf-schema#>\\\\nPREFIX geo:\\\\t <http://www.opengis.net/ont/geosparql#>\\\\nPREFIX geof: <http://www.opengis.net/def/function/geosparql/>\\\\nPREFIX lgdo: <http://linkedgeodata.org/ontology/>\\\\nPREFIX rasdb: <https://github.com/aghoshpro/RasterDataCube/>\\\\n\\\\nSELECT ?bldgName ?distName ?snowCover ?bldgLat ?bldgLon ?distWkt ?distWktColor ?bldgWkt ?bldgWktColor {\\\\n?region a :District ; rdfs:label ?distName ; geo:asWKT ?distWkt .\\\\n?building a lgdo:Church ; rdfs:label ?bldgName ; geo:asWKT ?bldgWkt . # School, Parking, Hospital, Hotel\\\\nBIND(\\'#008AFF5C\\' AS ?distWktColor)\\\\nBIND(\\'red\\' AS ?bldgWktColor)\\\\nFILTER (geof:sfWithin(?bldgWkt, ?distWkt))\\\\n?gridCoverage a :Raster ; rasdb:rasterName ?rasterName .\\\\nFILTER (CONTAINS(?rasterName, \\'Snow\\'))\\\\nBIND (\\'2023-12-20T00:00:00+00:00\\'^^xsd:dateTime AS ?timeStamp)\\\\nBIND (rasdb:rasSpatialMinimum(?timeStamp, ?distWkt, ?rasterName) AS ?snowCover) \\\\nFILTER(?snowCover > 5 && ?snowCover < 100)\\\\n} \\\\n\"}, {\"name\": \"Q15. View Universities (in 27.5 sec)\", \"query\": \"###############################################################################################\\\\n#### Query 15. List all the universities in Munich where elevation is more than 500 meters ####\\\\n###############################################################################################\\\\n\\\\nPREFIX :\\\\t<https://github.com/aghoshpro/OntoRaster/>\\\\nPREFIX rdfs: <http://www.w3.org/2000/01/rdf-schema#>\\\\nPREFIX geo:\\\\t <http://www.opengis.net/ont/geosparql#>\\\\nPREFIX geof: <http://www.opengis.net/def/function/geosparql/>\\\\nPREFIX lgdo: <http://linkedgeodata.org/ontology/>\\\\nPREFIX rasdb: <https://github.com/aghoshpro/RasterDataCube/>\\\\n\\\\nSELECT ?bldgName ?distName ?elevation ?distWkt ?distWktColor ?bldgWkt ?bldgWktColor {\\\\n?region a :District . \\\\n?region rdfs:label ?distName .\\\\n?region geo:asWKT ?distWkt .\\\\nBIND(\\'#008AFF5C\\' AS ?distWktColor)\\\\n?building a lgdo:University .   # School, Parking, Hospital, Hotel\\\\n?building rdfs:label ?bldgName .\\\\n?building geo:asWKT ?bldgWkt .\\\\n?bldg geo:asWKT ?bldgWkt .\\\\nBIND(\\'red\\' AS ?bldgWktColor)\\\\nFILTER (geof:sfWithin(?bldgWkt, ?distWkt))\\\\n?gridCoverage a :Raster .\\\\n?gridCoverage rasdb:rasterName ?rasterName .\\\\nFILTER (CONTAINS(?rasterName, \\'Elevation\\'))\\\\nBIND (\\'2000-02-11T00:00:00+00:00\\'^^xsd:dateTime AS ?timeStamp)\\\\nBIND (rasdb:rasSpatialAverage(?timeStamp, ?distWkt, ?rasterName) AS ?elevation)\\\\nFILTER(?elevation > 500)\\\\n} \\\\n\\\\n\"}, {\"name\": \"Q16. View Residential (in 100.12 sec)\", \"query\": \"##########################################################################################################################\\\\n#### Query 16. List all the residential and respective subdistricts in Munich where elevation is more than 520 meters ####\\\\n##########################################################################################################################\\\\n\\\\nPREFIX :\\\\t<https://github.com/aghoshpro/OntoRaster/>\\\\nPREFIX rdfs: <http://www.w3.org/2000/01/rdf-schema#>\\\\nPREFIX geo:\\\\t <http://www.opengis.net/ont/geosparql#>\\\\nPREFIX geof: <http://www.opengis.net/def/function/geosparql/>\\\\nPREFIX lgdo: <http://linkedgeodata.org/ontology/>\\\\nPREFIX rasdb: <https://github.com/aghoshpro/RasterDataCube/>\\\\n\\\\nSELECT ?distName ?elevation ?distWkt ?distWktColor ?bldgWkt ?bldgWktColor { # bldgName\\\\n?region a :SubDistrict . \\\\n?region rdfs:label ?distName .\\\\n?region geo:asWKT ?distWkt .\\\\nBIND(\\'#008AFF5C\\' AS ?distWktColor)\\\\n?building a lgdo:Residential .\\\\n#?building rdfs:label ?bldgName . ## ISSUE - if included some OSM null values are omitted \\\\n?building geo:asWKT ?bldgWkt .\\\\nBIND(\\'red\\' AS ?bldgWktColor)\\\\nFILTER (geof:sfWithin(?bldgWkt, ?distWkt))\\\\n?gridCoverage a :Raster .\\\\n?gridCoverage rasdb:rasterName ?rasterName .\\\\nFILTER (CONTAINS(?rasterName, \\'Elevation\\'))\\\\nBIND (\\'2000-02-11T00:00:00+00:00\\'^^xsd:dateTime AS ?timeStamp)\\\\nBIND (rasdb:rasSpatialAverage(?timeStamp, ?distWkt, ?rasterName) AS ?elevation)\\\\nFILTER(?elevation > 520)\\\\n} \\\\n\\\\n\"}, {\"name\": \"Q17. View Residential (in 21.84 sec)\", \"query\": \"########################################################################################################\\\\n#### Query 17. List all the residential in Munich where average temperature is more than 275 Kelvin ####\\\\n########################################################################################################\\\\n\\\\nPREFIX :\\\\t<https://github.com/aghoshpro/OntoRaster/>\\\\nPREFIX rdfs: <http://www.w3.org/2000/01/rdf-schema#>\\\\nPREFIX geo:\\\\t <http://www.opengis.net/ont/geosparql#>\\\\nPREFIX geof: <http://www.opengis.net/def/function/geosparql/>\\\\nPREFIX lgdo: <http://linkedgeodata.org/ontology/>\\\\nPREFIX rasdb: <https://github.com/aghoshpro/RasterDataCube/>\\\\n\\\\nSELECT ?distName ?temp ?distWkt ?distWktColor ?distWktLabel ?bldgWkt ?bldgWktColor { # bldgName\\\\n?region a :District .\\\\n?region rdfs:label ?distName .\\\\n?region geo:asWKT ?distWkt .\\\\nBIND(?distName AS ?distWktLabel)\\\\nBIND(\\'#008AFF5C\\' AS ?distWktColor)\\\\n?building a lgdo:Residential .\\\\n#?building rdfs:label ?bldgName . ## ISSUE - if included some OSM null values are omitted \\\\n?building geo:asWKT ?bldgWkt .\\\\nBIND(\\'red\\' AS ?bldgWktColor)\\\\nFILTER (geof:sfWithin(?bldgWkt, ?distWkt))\\\\n?gridCoverage a :Raster .\\\\n?gridCoverage rasdb:rasterName ?rasterName .\\\\nFILTER (CONTAINS(?rasterName, \\'Munich_MODIS_Temperature_1km\\')) \\\\nBIND (\\'2022-01-01T00:00:00+00:00\\'^^xsd:dateTime AS ?timeStamp)\\\\nBIND (rasdb:rasSpatialAverage(?timeStamp, ?distWkt, ?rasterName) AS ?temp)\\\\nFILTER(?temp > 275)  # Kelvin\\\\n} \\\\n\\\\n\"}, {\"name\": \"Q18. Clip Raster (in 0.05 sec)\", \"query\": \"############################################################################################################################################\\\\n#### Query 18. Clip and return a portion of the raster based on the shape of the custom vector Region over user-specific raster dataset ####\\\\n############################################################################################################################################\\\\n\\\\nPREFIX :\\\\t<https://github.com/aghoshpro/OntoRaster/>\\\\nPREFIX rdfs:\\\\t<http://www.w3.org/2000/01/rdf-schema#>\\\\nPREFIX geo:\\\\t<http://www.opengis.net/ont/geosparql#>\\\\nPREFIX rasdb:\\\\t<https://github.com/aghoshpro/RasterDataCube/>\\\\n\\\\nSELECT ?clipped ?customRegionWkt {\\\\n?gridCoverage a :Raster .\\\\n?gridCoverage rasdb:rasterName ?rasterName .\\\\nFILTER (CONTAINS(?rasterName, \\'Munich_MODIS_Temperature_1km\\')) \\\\nBIND (\\'POLYGON((11.548455354852285 48.14904359943597,11.627292392870094 48.147177113486606,11.58380485801181 48.11696471831948,11.546675164347198 48.119171832113835,11.548455354852285 48.14904359943597))\\' AS ?customRegionWkt)\\\\nBIND (\\'2022-01-01T00:00:00+00:00\\'^^xsd:dateTime AS ?timeStamp)\\\\nBIND (rasdb:rasClipRasterAnyGeom(?timeStamp, ?customRegionWkt, ?rasterName) AS ?clipped) \\\\n}\\\\n\\\\n\"}, {\"name\": \"Q19. View Clipped Raster**\", \"query\": \"############################################################################################################################\\\\n#### Query 19. Clip and view a portion of the raster based on the shape of the Region over user-specific raster dataset ####\\\\n############################################################################################################################\\\\n\\\\nPREFIX :\\\\t<https://github.com/aghoshpro/OntoRaster/>\\\\nPREFIX rdfs: <http://www.w3.org/2000/01/rdf-schema#>\\\\nPREFIX geo:\\\\t <http://www.opengis.net/ont/geosparql#>\\\\nPREFIX geof: <http://www.opengis.net/def/function/geosparql/>\\\\nPREFIX lgdo: <http://linkedgeodata.org/ontology/>\\\\nPREFIX rasdb: <https://github.com/aghoshpro/RasterDataCube/>\\\\n\\\\nSELECT ?distName ?geoTiff {\\\\n?region a :District ; rdfs:label ?distName ; geo:asWKT ?distWkt .\\\\n?gridCoverage a :Raster ; rasdb:rasterName ?rasterName .\\\\n#FILTER (?distName = \\'Friedenheim\\') # Biederstein\\\\nFILTER (CONTAINS(?rasterName, \\'Elevation\\'))\\\\nBIND (-32768 AS ?fillNAN)\\\\nBIND (\\'2000-02-11T00:00:00+00:00\\'^^xsd:dateTime AS ?timeStamp)\\\\nBIND (rasdb:rasGeoTIFF(?timestamp, ?distWkt, ?rasterName, ?distName, ?fillNAN) AS ?geoTiff)\\\\n} \\\\n\"}, {\"name\": \"Q20. Get 3D buildings**\", \"query\": \"##################################################################################################################################\\\\n#### Query 20. List all the buildings in Munich where building height is 30 meters and average elevation less than 510 meters ####\\\\n##################################################################################################################################\\\\n\\\\nPREFIX :\\\\t<https://github.com/aghoshpro/OntoRaster/>\\\\nPREFIX rdfs: <http://www.w3.org/2000/01/rdf-schema#>\\\\nPREFIX geo:\\\\t <http://www.opengis.net/ont/geosparql#>\\\\nPREFIX geof: <http://www.opengis.net/def/function/geosparql/>\\\\nPREFIX lgdo: <http://linkedgeodata.org/ontology/>\\\\nPREFIX rasdb: <https://github.com/aghoshpro/RasterDataCube/>\\\\n\\\\n\"}, {\"name\": \"READ ME\", \"query\": \"##########################\\\\n#### Relational Data  ####\\\\n##########################\\\\n## Vector data (Boundaries of Districts and Sub-District)\\\\n## OpenStreetMap (OSM) Data (Types of Buildings)\\\\n## 3D CityGML Data (Building) \\\\n\\\\n######################\\\\n#### Raster Data  ####\\\\n######################\\\\n## MODIS Temperature\\\\n## SRTM Terrain Elevation (DEM)\\\\n## MODIS Vegetation (NDVI)\\\\n## NDSI Snow Cover\\\\n## ECO Soil Moisture(SM)\\\\n\\\\n## Q19 and Q20 are in **WORK IN PROGRESS\\\\n\"}]}, {\"name\": \"AOI - Sweden (WASP)\", \"tabs\": [{\"name\": \"Q21. Spatial Maximum\", \"query\": \"###################################################################################################\\\\n#### Query 4. Find spatial maximum value over a user-specific vector Region and Raster dataset ####\\\\n###################################################################################################\\\\n\\\\nPREFIX :\\\\t<https://github.com/aghoshpro/OntoRaster/>\\\\nPREFIX rdfs:\\\\t<http://www.w3.org/2000/01/rdf-schema#>\\\\nPREFIX geo:\\\\t<http://www.opengis.net/ont/geosparql#>\\\\nPREFIX rasdb:\\\\t<https://github.com/aghoshpro/RasterDataCube/>\\\\n\\\\nSELECT ?regionName ?tempK {\\\\n?region a :Region_SWEDEN .\\\\n?region rdfs:label ?regionName .\\\\n?region geo:asWKT ?regionWkt .\\\\n?gridCoverage a :Raster .\\\\n?gridCoverage rasdb:rasterName ?rasterName .\\\\nFILTER (?regionName = \\'Stockholm\\') # also try with Link\\\\u00f6ping, Uppsala, G\\\\u00f6teborg, Stockholm etc.\\\\nFILTER (CONTAINS(?rasterName, \\'Sweden\\'))\\\\nBIND (\\'2022-08-24T00:00:00+00:00\\'^^xsd:dateTime AS ?timeStamp)\\\\nBIND (rasdb:rasSpatialMaximum(?timeStamp, ?regionWkt, ?rasterName) AS ?tempK)\\\\n}\\\\n\"}, {\"name\": \"Q22. Temporal Maximum\", \"query\": \"############################################################################################################################\\\\n#### Query 22. Find temporal maximum value over a user-specific vector Region and Raster dataset between two timestamps ####\\\\n############################################################################################################################\\\\n\\\\nPREFIX :\\\\t<https://github.com/aghoshpro/OntoRaster/>\\\\nPREFIX rdfs:\\\\t<http://www.w3.org/2000/01/rdf-schema#>\\\\nPREFIX geo:\\\\t<http://www.opengis.net/ont/geosparql#>\\\\nPREFIX rasdb:\\\\t<https://github.com/aghoshpro/RasterDataCube/>\\\\n\\\\nSELECT ?regionName ?tempK ?regionWkt {\\\\n?region a :Region_SWEDEN .\\\\n?region rdfs:label ?regionName .\\\\n?region geo:asWKT ?regionWkt .\\\\n?gridCoverage a :Raster .\\\\n?gridCoverage rasdb:rasterName ?rasterName .\\\\nFILTER (?regionName = \\'G\\\\u00f6teborg\\') # S\\\\u00f6derk\\\\u00f6ping\\\\nFILTER (CONTAINS(?rasterName, \\'Sweden\\'))\\\\nBIND (\\'2022-04-05T00:00:00+00:00\\'^^xsd:dateTime AS ?startTimeStamp)\\\\nBIND (\\'2022-06-19T00:00:00+00:00\\'^^xsd:dateTime AS ?endTimeStamp)\\\\nBIND (rasdb:rasTemporalMaximum(?startTimeStamp, ?endTimeStamp , ?regionWkt, ?rasterName) AS ?tempK)\\\\n}\\\\n\"}, {\"name\": \"Q23. Spatial Average\", \"query\": \"###########################################################################################################\\\\n#### Query 23. Find spatial maximum value over a vector Region class Country Sweden and Raster dataset ####\\\\n###########################################################################################################\\\\n\\\\nPREFIX :\\\\t<https://github.com/aghoshpro/OntoRaster/>\\\\nPREFIX rdfs:\\\\t<http://www.w3.org/2000/01/rdf-schema#>\\\\nPREFIX geo:\\\\t<http://www.opengis.net/ont/geosparql#>\\\\nPREFIX rasdb:\\\\t<https://github.com/aghoshpro/RasterDataCube/>\\\\n\\\\nSELECT ?regionName ?tempK ?regionWkt ?regionWktColor {\\\\n?region a :Region_SWEDEN .\\\\n?region rdfs:label ?regionName .\\\\n?region geo:asWKT ?regionWkt .\\\\n?gridCoverage a :Raster .\\\\n?gridCoverage rasdb:rasterName ?rasterName .\\\\nFILTER (CONTAINS(?regionName, \\'\\\\u00d6\\')) # \\\\u00d6 \\\\u00c5 \\\\u00c4\\\\nFILTER(?regionName NOT IN(\\'Sj\\\\u00f6bo\\')) # ISSUE with Sj\\\\u00f6bo\\\\nFILTER (CONTAINS(?rasterName, \\'Sweden\\'))\\\\nBIND (\\'2022-08-24T00:00:00+00:00\\'^^xsd:dateTime AS ?timeStamp)\\\\nBIND (rasdb:rasSpatialAverage(?timeStamp, ?regionWkt, ?rasterName) AS ?tempK)\\\\nFILTER(?tempK > 250) .\\\\n  BIND( \\\\n    IF(?tempK < 260, \\\\\"blue\\\\\" , \\\\n    IF(?tempK < 270, \\\\\"#008AFF\\\\\",\\\\n    IF(?tempK < 280, \\\\\"magenta\\\\\",\\\\n    IF(?tempK < 285, \\\\\"red\\\\\",\\\\n    IF(?tempK < 290, \\\\\"#820000\\\\\",\\\\n    \\\\\"black\\\\\")))))\\\\n    AS ?regionWktColor).\\\\n} \\\\nGROUP BY ?regionName ?tempK ?regionWkt ?regionWktColor\\\\n\"}, {\"name\": \"READ ME\", \"query\": \"##########################\\\\n#### Relational Data  ####\\\\n##########################\\\\n## Vector data (Boundaries of Districts and Sub-District) [POLYGONS and MULTIPOLYGONS]\\\\n\\\\n######################\\\\n#### Raster Data  ####\\\\n######################\\\\n## MODIS Temperature\\\\n\"}]}, {\"name\": \"AOI - South Tyrol, Italy\", \"tabs\": [{\"name\": \"Q25. Spatial Average\", \"query\": \"############################################################################\\\\n#### Query 25. Find spatial average temperature over South Tyrol, ITALY ####\\\\n############################################################################\\\\n\\\\nPREFIX :\\\\t<https://github.com/aghoshpro/OntoRaster/>\\\\nPREFIX rdfs:\\\\t<http://www.w3.org/2000/01/rdf-schema#>\\\\nPREFIX geo:\\\\t<http://www.opengis.net/ont/geosparql#>\\\\nPREFIX rasdb:\\\\t<https://github.com/aghoshpro/RasterDataCube/>\\\\n\\\\nSELECT ?regionName ?tempK ?regionWkt ?regionWktLabel ?regionWktColor {\\\\n?region a :Region_ITALY .\\\\n?region rdfs:label ?regionName .\\\\n?region geo:asWKT ?regionWkt .\\\\nBIND (?regionName AS ?regionWktLabel)\\\\n?gridCoverage a :Raster .\\\\n?gridCoverage rasdb:rasterName ?rasterName .\\\\n#FILTER (?regionName = \\'Bolzano\\')\\\\nFILTER (CONTAINS(?rasterName, \\'Tyrol\\'))\\\\nBIND (\\'2023-03-03T00:00:00+00:00\\'^^xsd:dateTime AS ?timeStamp)\\\\nBIND (rasdb:rasSpatialAverage(?timeStamp, ?regionWkt, ?rasterName) AS ?tempK)\\\\nFILTER(?tempK > 250) .\\\\n  BIND( \\\\n    IF(?tempK < 260, \\\\\"blue\\\\\" , \\\\n    IF(?tempK < 265, \\\\\"#008AFF\\\\\",\\\\n    IF(?tempK < 270, \\\\\"magenta\\\\\",\\\\n    IF(?tempK < 275, \\\\\"red\\\\\",\\\\n    IF(?tempK < 280, \\\\\"black\\\\\",\\\\n    \\\\\"black\\\\\")))))\\\\n    AS ?regionWktColor).\\\\n} \\\\nGROUP BY ?regionName ?tempK ?regionWkt ?regionWktLabel ?regionWktColor\\\\n\"}, {\"name\": \"Q26. Spatial Maximum\", \"query\": \"###########################################################################################\\\\n#### Query 26. Find spatial maximum temperature over wine fields of South Tyrol, ITALY ####\\\\n###########################################################################################\\\\n\\\\nPREFIX :\\\\t<https://github.com/aghoshpro/OntoRaster/>\\\\nPREFIX rdfs:\\\\t<http://www.w3.org/2000/01/rdf-schema#>\\\\nPREFIX geo:\\\\t<http://www.opengis.net/ont/geosparql#>\\\\nPREFIX rasdb:\\\\t<https://github.com/aghoshpro/RasterDataCube/>\\\\n\\\\nSELECT ?regionName ?tempK { #?regionWkt ?regionWktLabel ?regionWktColor\\\\n?region a :Region_ITALY .\\\\n?region rdfs:label ?regionName .\\\\n?region geo:asWKT ?regionWkt .\\\\nBIND (?regionName AS ?regionWktLabel)\\\\n?gridCoverage a :Raster .\\\\n?gridCoverage rasdb:rasterName ?rasterName .\\\\nFILTER (CONTAINS(?regionName, \\'Vino\\'))\\\\nFILTER (CONTAINS(?rasterName, \\'Tyrol\\'))\\\\nBIND (\\'2023-03-03T00:00:00+00:00\\'^^xsd:dateTime AS ?timeStamp)\\\\nBIND (rasdb:rasSpatialMaximum(?timeStamp, ?regionWkt, ?rasterName) AS ?tempK)\\\\n#FILTER(?tempK > 250) .\\\\n#  BIND( \\\\n#    IF(?tempK < 260, \\\\\"blue\\\\\" , \\\\n#    IF(?tempK < 265, \\\\\"#008AFF\\\\\",\\\\n#    IF(?tempK < 270, \\\\\"magenta\\\\\",\\\\n#    IF(?tempK < 275, \\\\\"red\\\\\",\\\\n#    IF(?tempK < 280, \\\\\"black\\\\\",\\\\n#    \\\\\"black\\\\\")))))\\\\n#    AS ?regionWktColor).\\\\n}\\\\n#GROUP BY ?regionName ?tempK ?regionWkt ?regionWktLabel ?regionWktColor\\\\n\"}, {\"name\": \"Q25. Spatial Minimum\", \"query\": \"###################################################################################################\\\\n#### Query 25. Find spatial minimum value over a user-specific vector Region and Raster dataset ####\\\\n###################################################################################################\\\\n\\\\nPREFIX :\\\\t<https://github.com/aghoshpro/OntoRaster/>\\\\nPREFIX rdfs:\\\\t<http://www.w3.org/2000/01/rdf-schema#>\\\\nPREFIX geo:\\\\t<http://www.opengis.net/ont/geosparql#>\\\\nPREFIX rasdb:\\\\t<https://github.com/aghoshpro/RasterDataCube/>\\\\n\\\\nSELECT ?regionName ?tempK ?regionWkt ?regionWktLabel { #?regiontWktColor \\\\n?region a :Region_ITALY .\\\\n?region rdfs:label ?regionName .\\\\n?region geo:asWKT ?regionWkt .\\\\nBIND (?regionName AS ?regionWktLabel)\\\\n#BIND(\\'#008AFFF0\\' AS ?regiontWktColor)\\\\n?gridCoverage a :Raster .\\\\n?gridCoverage rasdb:rasterName ?rasterName .\\\\nFILTER (?regionName = \\'Lagundo\\') # also try with Castelrotto, Sarentino, Fortezza  etc.\\\\nFILTER (CONTAINS(?rasterName, \\'Tyrol\\'))\\\\nBIND (\\'2023-03-03T00:00:00+00:00\\'^^xsd:dateTime AS ?timeStamp)\\\\nBIND (rasdb:rasSpatialMinimum(?timeStamp, ?regionWkt, ?rasterName) AS ?tempK)\\\\n} \\\\n\"}, {\"name\": \"Q26. Clip Raster\", \"query\": \"#####################################################################################################################\\\\n#### Query 26. Clip a portion of the raster based on the shape of vector Region over user-specific raster dataset ####\\\\n#####################################################################################################################\\\\n\\\\nPREFIX :\\\\t<https://github.com/aghoshpro/OntoRaster/>\\\\nPREFIX rdfs:\\\\t<http://www.w3.org/2000/01/rdf-schema#>\\\\nPREFIX geo:\\\\t<http://www.opengis.net/ont/geosparql#>\\\\nPREFIX rasdb:\\\\t<https://github.com/aghoshpro/RasterDataCube/>\\\\n\\\\nSELECT ?regionName ?arrayClipped {\\\\n?region a :Region_ITALY .\\\\n?region rdfs:label ?regionName .\\\\n?region geo:asWKT ?regionWkt .\\\\n?gridCoverage a :Raster .\\\\n?gridCoverage rasdb:rasterName ?rasterName .\\\\nFILTER (?regionName = \\'Castelrotto\\') \\\\nFILTER (CONTAINS(?rasterName, \\'Tyrol\\')) \\\\nBIND (\\'2023-09-24T00:00:00+00:00\\'^^xsd:dateTime AS ?timeStamp)\\\\nBIND (rasdb:rasClipRaster(?timeStamp, ?regionWkt, ?rasterName) AS ?arrayClipped) \\\\n}\\\\n\"}, {\"name\": \"READ ME\", \"query\": \"##########################\\\\n#### Relational Data  ####\\\\n##########################\\\\n## Vector data (Boundaries of Districts and Sub-District) [POLYGONS and MULTI-POLYGONS]\\\\n\\\\n######################\\\\n#### Raster Data  ####\\\\n######################\\\\n## MODIS Temperature\\\\n\\\\n\"}]}]}'"
      ]
     },
     "execution_count": 6,
     "metadata": {},
     "output_type": "execute_result"
    }
   ],
   "source": [
    "doc = docs[0]\n",
    "doc.page_content"
   ]
  },
  {
   "cell_type": "code",
   "execution_count": 6,
   "id": "7a76dcbf",
   "metadata": {},
   "outputs": [],
   "source": [
    "all_page_text=[p.page_content for p in docs]\n",
    "joined_page_text=\" \".join(all_page_text)\n",
    "\n",
    "# Split\n",
    "text_splitter = RecursiveCharacterTextSplitter(chunk_size = 1500,chunk_overlap = 150)\n",
    "splits = text_splitter.split_text(joined_page_text)"
   ]
  },
  {
   "cell_type": "code",
   "execution_count": 7,
   "id": "23bafb37",
   "metadata": {},
   "outputs": [
    {
     "data": {
      "text/plain": [
       "40776"
      ]
     },
     "execution_count": 7,
     "metadata": {},
     "output_type": "execute_result"
    }
   ],
   "source": [
    "len(joined_page_text)"
   ]
  },
  {
   "cell_type": "code",
   "execution_count": 8,
   "id": "adf618ed",
   "metadata": {},
   "outputs": [
    {
     "data": {
      "text/plain": [
       "'{\"title\": \"OntoRaster v2024 Demonstration\", \"tabGroups\": [{\"name\": \"RasSPARQL Functions\", \"tabs\": [{\"name\": \"Q1. Get Dimension\", \"query\": \"#####################################################################\\\\n#### Query 1. Find the dimension of user-specific Raster dataset ####\\\\n#####################################################################\\\\n\\\\nPREFIX :\\\\t<https://github.com/aghoshpro/OntoRaster/>\\\\nPREFIX rasdb:\\\\t<https://github.com/aghoshpro/RasterDataCube/>\\\\n\\\\nSELECT ?rasterName ?dimension {\\\\n?gridCoverage a :Raster .\\\\n?gridCoverage rasdb:rasterName ?rasterName .\\\\nFILTER (CONTAINS(?rasterName, \\'\\')) # Also try \\'Munich\\', \\'Sweden\\', \\'Bavaria\\', \\'Tyrol\\'\\\\nBIND (rasdb:rasDimension(?rasterName) AS ?dimension)\\\\n}\\\\n\"}, {\"name\": \"Q2. Cell Operation\", \"query\": \"#################################################################################################################\\\\n#### Query 2. Perform element-wise operation over raster array cells with user-specific operator and operand ####\\\\n#################################################################################################################\\\\n\\\\nPREFIX :\\\\t<https://github.com/aghoshpro/OntoRaster/>\\\\nPREFIX rasdb:\\\\t<https://github.com/aghoshpro/RasterDataCube/>\\\\n\\\\nSELECT ?answer {\\\\n?raster rasdb:rasterName ?rasterName .\\\\nFILTER (CONTAINS(?rasterName, \\'Sweden\\'))\\\\nBIND (\\'*\\' AS ?operator) \\\\nBIND (0.02 AS ?operand)\\\\nBIND (\\'2022-04-18T00:00:00+00:00\\'^^xsd:dateTime AS ?timeStamp)\\\\nBIND (rasdb:rasCellOp(?timeStamp, ?operator,'"
      ]
     },
     "execution_count": 8,
     "metadata": {},
     "output_type": "execute_result"
    }
   ],
   "source": [
    "splits[0]"
   ]
  },
  {
   "cell_type": "code",
   "execution_count": 9,
   "id": "e65ae474",
   "metadata": {},
   "outputs": [],
   "source": [
    "vectordb = Chroma.from_texts(\n",
    "    texts=splits,\n",
    "    embedding=embeddings,\n",
    "    persist_directory=persist_directory,\n",
    "    collection_name=\"OntoRaster\"\n",
    ")"
   ]
  },
  {
   "cell_type": "code",
   "execution_count": 16,
   "id": "8ef7eb36",
   "metadata": {},
   "outputs": [],
   "source": [
    "# Build prompt\n",
    "from langchain.prompts import PromptTemplate\n",
    "template = \"\"\"Use the following pieces of context to write a valid SPARQL query with PREFIX declarations as an answer to the question at the end. If you don't know the answer, just say that you don't know, don't try to make up an answer. Keep the answer as concise as possible. \n",
    "{context}\n",
    "Question: {question}\n",
    "Helpful Answer:\"\"\"\n",
    "QA_CHAIN_PROMPT = PromptTemplate(input_variables=[\"context\", \"question\"],template=template,)\n",
    "\n",
    "# Run chain\n",
    "qa_chain = RetrievalQA.from_chain_type(LLM,\n",
    "                                       retriever=vectordb.as_retriever(),\n",
    "                                       return_source_documents=True,\n",
    "                                       chain_type_kwargs={\"prompt\": QA_CHAIN_PROMPT})"
   ]
  },
  {
   "cell_type": "code",
   "execution_count": 15,
   "id": "f551bce4",
   "metadata": {},
   "outputs": [
    {
     "name": "stdout",
     "output_type": "stream",
     "text": [
      "SELECT ?rasterName ?dimension {\\n?gridCoverage a :Raster .\\n?gridCoverage rasdb:rasterName ?rasterName .\\nFILTER (CONTAINS(?rasterName, '')) # Also try 'Munich', 'Sweden', 'Bavaria', 'Tyrol'\\nBIND (rasdb:rasDimension(?rasterName) AS ?dimension)\\n}\\n}\n"
     ]
    }
   ],
   "source": [
    "question = \"Find the dimension of user-specific Raster dataset\"\n",
    "result = qa_chain.invoke({\"query\": question})\n",
    "print(result[\"result\"])"
   ]
  },
  {
   "cell_type": "code",
   "execution_count": 11,
   "id": "7c21e702",
   "metadata": {},
   "outputs": [
    {
     "name": "stdout",
     "output_type": "stream",
     "text": [
      "SELECT ?rasterName ?dimension {\\n?gridCoverage a :Raster .\\n?gridCoverage rasdb:rasterName ?rasterName .\\nFILTER (CONTAINS(?rasterName, 'Bavaria')) \\nBIND (rasdb:rasDimension(?rasterName) AS ?dimension)\\n}\n"
     ]
    }
   ],
   "source": [
    "question = \"Find the dimension of user-specific Raster dataset over Bavaria\"\n",
    "result = qa_chain.invoke({\"query\": question})\n",
    "print(result[\"result\"])"
   ]
  },
  {
   "cell_type": "code",
   "execution_count": 12,
   "id": "b6f8cab8",
   "metadata": {},
   "outputs": [
    {
     "name": "stdout",
     "output_type": "stream",
     "text": [
      "I don't know the answer to this question.\n"
     ]
    }
   ],
   "source": [
    "question = \"Find spatial average temperature over Munich Region and corresponding raster dataset\"\n",
    "result = qa_chain.invoke({\"query\": question})\n",
    "print(result[\"result\"])"
   ]
  },
  {
   "cell_type": "code",
   "execution_count": 17,
   "id": "6e7e9265",
   "metadata": {},
   "outputs": [
    {
     "name": "stdout",
     "output_type": "stream",
     "text": [
      "\n",
      "\n",
      "I can help with that. Here is a SPARQL query based on the context provided:\n",
      "```\n",
      "PREFIX : <https://github.com/aghoshpro/OntoRaster/>\n",
      "PREFIX rdfs: <http://www.w3.org/2000/01/rdf-schema#>\n",
      "PREFIX geo: <http://www.opengis.net/ont/geosparql#>\n",
      "PREFIX rasdb: <https://github.com/aghoshpro/RasterDataCube/>\n",
      "\n",
      "SELECT ?regionName ?tempK ?regionWkt ?regionWktLabel ?regionWktColor\n",
      "{\n",
      "  ?region a :Region_ITALY .\n",
      "  ?region rdfs:label ?regionName .\n",
      "  ?region geo:asWKT ?regionWkt .\n",
      "  BIND (?regionName AS ?regionWktLabel) .\n",
      "  ?gridCoverage a :Raster .\n",
      "  ?gridCoverage rasdb:rasterName ?rasterName .\n",
      "  FILTER (?regionName = 'Bolzano') .\n",
      "  FILTER (CONTAINS(?rasterName, 'Tyrol')) .\n",
      "  BIND ('2023-03-03T00:00:00+00:00'^^xsd:dateTime AS ?timeStamp) .\n",
      "  BIND (rasdb:rasSpatialAverage(?timeStamp, ?regionWkt, ?rasterName) AS ?tempK) .\n",
      "  FILTER (?tempK > 250) .\n",
      "  BIND (\n",
      "    IF(?tempK < 260, \"blue\" ,\n",
      "       IF(?tempK < 265, \"#008AFF\",\n",
      "          IF(?tempK < 270, \"magenta\",\n",
      "             IF(?tempK < 275, \"red\",\n",
      "                IF(?tempK < 280, \"black\", \"black\"))))) AS ?regionWktColor).\n",
      "}\n",
      "GROUP BY ?regionName ?tempK ?regionWkt ?regionWktLabel ?regionWktColor\n",
      "```\n",
      "This query should return the desired information.\n"
     ]
    }
   ],
   "source": [
    "question = \"Find spatial average temperature over Bolzano Region and corresponding raster dataset\"\n",
    "result = qa_chain.invoke({\"query\": question})\n",
    "print('\\n')\n",
    "print(result[\"result\"])"
   ]
  },
  {
   "cell_type": "code",
   "execution_count": null,
   "id": "886355d7",
   "metadata": {},
   "outputs": [],
   "source": []
  }
 ],
 "metadata": {
  "kernelspec": {
   "display_name": "Python 3",
   "language": "python",
   "name": "python3"
  },
  "language_info": {
   "codemirror_mode": {
    "name": "ipython",
    "version": 3
   },
   "file_extension": ".py",
   "mimetype": "text/x-python",
   "name": "python",
   "nbconvert_exporter": "python",
   "pygments_lexer": "ipython3",
   "version": "3.10.8"
  }
 },
 "nbformat": 4,
 "nbformat_minor": 5
}
